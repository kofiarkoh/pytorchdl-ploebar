{
 "cells": [
  {
   "cell_type": "code",
   "execution_count": 1,
   "metadata": {},
   "outputs": [],
   "source": [
    "import torch\n",
    "import torchvision\n",
    "from torch.utils.data import Dataset, DataLoader\n",
    "import numpy as np\n",
    "import math"
   ]
  },
  {
   "cell_type": "code",
   "execution_count": 2,
   "metadata": {},
   "outputs": [],
   "source": [
    "class WineDataset(Dataset):\n",
    "    def __init__(self) -> None:\n",
    "        xy = np.loadtxt(\"./wine.csv\",delimiter=',',dtype=np.float32,skiprows=1) # skip first row\n",
    "        self.x = torch.from_numpy(xy[:,1:])\n",
    "        self.y = torch.from_numpy(xy[:,[0]]) # this makes the sizes as n_samples by 1\n",
    "        self.n_samples = xy.shape[0]\n",
    "\n",
    "\n",
    "    def __getitem__(self, index):\n",
    "        return self.x[index], self.y[index]\n",
    "    \n",
    "    def __len__(self):\n",
    "        return self.n_samples\n",
    "    \n",
    "    \n"
   ]
  },
  {
   "cell_type": "code",
   "execution_count": 3,
   "metadata": {},
   "outputs": [
    {
     "name": "stdout",
     "output_type": "stream",
     "text": [
      "tensor([1.])\n"
     ]
    }
   ],
   "source": [
    "dataset = WineDataset()\n",
    "first_data = dataset[0]\n",
    "features, labels = first_data\n",
    "print(labels)"
   ]
  },
  {
   "cell_type": "code",
   "execution_count": 9,
   "metadata": {},
   "outputs": [
    {
     "name": "stdout",
     "output_type": "stream",
     "text": [
      "tensor([[1.3410e+01, 3.8400e+00, 2.1200e+00, 1.8800e+01, 9.0000e+01, 2.4500e+00,\n",
      "         2.6800e+00, 2.7000e-01, 1.4800e+00, 4.2800e+00, 9.1000e-01, 3.0000e+00,\n",
      "         1.0350e+03],\n",
      "        [1.2700e+01, 3.8700e+00, 2.4000e+00, 2.3000e+01, 1.0100e+02, 2.8300e+00,\n",
      "         2.5500e+00, 4.3000e-01, 1.9500e+00, 2.5700e+00, 1.1900e+00, 3.1300e+00,\n",
      "         4.6300e+02],\n",
      "        [1.3710e+01, 1.8600e+00, 2.3600e+00, 1.6600e+01, 1.0100e+02, 2.6100e+00,\n",
      "         2.8800e+00, 2.7000e-01, 1.6900e+00, 3.8000e+00, 1.1100e+00, 4.0000e+00,\n",
      "         1.0350e+03],\n",
      "        [1.3030e+01, 9.0000e-01, 1.7100e+00, 1.6000e+01, 8.6000e+01, 1.9500e+00,\n",
      "         2.0300e+00, 2.4000e-01, 1.4600e+00, 4.6000e+00, 1.1900e+00, 2.4800e+00,\n",
      "         3.9200e+02]]) tensor([[1.],\n",
      "        [2.],\n",
      "        [1.],\n",
      "        [2.]])\n"
     ]
    }
   ],
   "source": [
    "dataloader = DataLoader(dataset=dataset,batch_size=4,shuffle=True)\n",
    "\n",
    "dataiter = iter(dataloader)\n",
    "\n",
    "data = dataiter.next()\n",
    "features, labels = data\n",
    "print(features,labels)"
   ]
  },
  {
   "cell_type": "code",
   "execution_count": 10,
   "metadata": {},
   "outputs": [
    {
     "name": "stdout",
     "output_type": "stream",
     "text": [
      "178 45\n"
     ]
    }
   ],
   "source": [
    "# training loop\n",
    "\n",
    "num_epochs = 2\n",
    "\n",
    "total_samples = len(dataset)\n",
    "\n",
    "n_iterations = math.ceil(total_samples/4)\n",
    "\n",
    "print(total_samples,n_iterations)"
   ]
  },
  {
   "cell_type": "code",
   "execution_count": 11,
   "metadata": {},
   "outputs": [
    {
     "name": "stdout",
     "output_type": "stream",
     "text": [
      "epoch 1/2 step 5/45, inputs torch.Size([4, 13])\n",
      "epoch 1/2 step 10/45, inputs torch.Size([4, 13])\n",
      "epoch 1/2 step 15/45, inputs torch.Size([4, 13])\n",
      "epoch 1/2 step 20/45, inputs torch.Size([4, 13])\n",
      "epoch 1/2 step 25/45, inputs torch.Size([4, 13])\n",
      "epoch 1/2 step 30/45, inputs torch.Size([4, 13])\n",
      "epoch 1/2 step 35/45, inputs torch.Size([4, 13])\n",
      "epoch 1/2 step 40/45, inputs torch.Size([4, 13])\n",
      "epoch 1/2 step 45/45, inputs torch.Size([2, 13])\n",
      "epoch 2/2 step 5/45, inputs torch.Size([4, 13])\n",
      "epoch 2/2 step 10/45, inputs torch.Size([4, 13])\n",
      "epoch 2/2 step 15/45, inputs torch.Size([4, 13])\n",
      "epoch 2/2 step 20/45, inputs torch.Size([4, 13])\n",
      "epoch 2/2 step 25/45, inputs torch.Size([4, 13])\n",
      "epoch 2/2 step 30/45, inputs torch.Size([4, 13])\n",
      "epoch 2/2 step 35/45, inputs torch.Size([4, 13])\n",
      "epoch 2/2 step 40/45, inputs torch.Size([4, 13])\n",
      "epoch 2/2 step 45/45, inputs torch.Size([2, 13])\n"
     ]
    }
   ],
   "source": [
    "for epoch in range(num_epochs):\n",
    "    for i, (inputs,labels) in enumerate(dataloader):\n",
    "        # forward , backward and update weights\n",
    "\n",
    "        if(i+1)%5 == 0:\n",
    "            print(f\"epoch {epoch+1}/{num_epochs} step {i+1}/{n_iterations}, inputs {inputs.shape}\")"
   ]
  },
  {
   "cell_type": "code",
   "execution_count": null,
   "metadata": {},
   "outputs": [],
   "source": []
  }
 ],
 "metadata": {
  "kernelspec": {
   "display_name": "base",
   "language": "python",
   "name": "python3"
  },
  "language_info": {
   "codemirror_mode": {
    "name": "ipython",
    "version": 3
   },
   "file_extension": ".py",
   "mimetype": "text/x-python",
   "name": "python",
   "nbconvert_exporter": "python",
   "pygments_lexer": "ipython3",
   "version": "3.9.7"
  },
  "orig_nbformat": 4
 },
 "nbformat": 4,
 "nbformat_minor": 2
}
