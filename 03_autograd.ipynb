{
 "cells": [
  {
   "cell_type": "code",
   "execution_count": 1,
   "metadata": {},
   "outputs": [],
   "source": [
    "import torch"
   ]
  },
  {
   "cell_type": "code",
   "execution_count": 4,
   "metadata": {},
   "outputs": [
    {
     "data": {
      "text/plain": [
       "tensor([-0.1533,  1.0360, -0.1927], requires_grad=True)"
      ]
     },
     "execution_count": 4,
     "metadata": {},
     "output_type": "execute_result"
    }
   ],
   "source": [
    "x = torch.randn(3,requires_grad=True)\n",
    "x"
   ]
  },
  {
   "cell_type": "code",
   "execution_count": 12,
   "metadata": {},
   "outputs": [
    {
     "data": {
      "text/plain": [
       "tensor(0.2300, grad_fn=<MeanBackward0>)"
      ]
     },
     "execution_count": 12,
     "metadata": {},
     "output_type": "execute_result"
    }
   ],
   "source": [
    "y = x.mean()\n",
    "y"
   ]
  },
  {
   "cell_type": "code",
   "execution_count": 15,
   "metadata": {},
   "outputs": [
    {
     "data": {
      "text/plain": [
       "tensor([1.3333, 1.3333, 1.3333])"
      ]
     },
     "execution_count": 15,
     "metadata": {},
     "output_type": "execute_result"
    }
   ],
   "source": [
    "# calculate the gradients of y in the backward step\n",
    "y.backward()\n",
    "x.grad"
   ]
  },
  {
   "cell_type": "code",
   "execution_count": 21,
   "metadata": {},
   "outputs": [
    {
     "name": "stdout",
     "output_type": "stream",
     "text": [
      "tensor([0.2000, 2.0000, 0.0020]) tensor([0.1000, 1.0000, 0.0010])\n"
     ]
    }
   ],
   "source": [
    "## gradients for vectors\n",
    "x = torch.randn(3,requires_grad=True)\n",
    "v = torch.tensor([0.1,1.0,0.001], dtype=torch.float32)\n",
    "z = x*2\n",
    "z.backward(v)\n",
    "print(x.grad,v)\n"
   ]
  },
  {
   "attachments": {},
   "cell_type": "markdown",
   "metadata": {},
   "source": [
    "# prevennt pytorch from tracking gradients\n",
    "\n",
    "this can be done by : \n",
    "-  x.requires_grad_(False)  : modifies x in place with gradients turned off\n",
    "-  x.detach() :  returns a copy of x with gradients turned off but x still remains the same\n",
    "-  with torch.no_grad():  provies a no gradient context"
   ]
  },
  {
   "cell_type": "code",
   "execution_count": 22,
   "metadata": {},
   "outputs": [],
   "source": [
    "#simple gradient loop"
   ]
  },
  {
   "cell_type": "code",
   "execution_count": 25,
   "metadata": {},
   "outputs": [
    {
     "name": "stdout",
     "output_type": "stream",
     "text": [
      "weights tensor([-1.1012, -0.7157,  2.2992,  0.3246], requires_grad=True)   gradients: tensor([3., 3., 3., 3.])\n",
      "weights tensor([-1.1012, -0.7157,  2.2992,  0.3246], requires_grad=True)   gradients: tensor([3., 3., 3., 3.])\n",
      "weights tensor([-1.1012, -0.7157,  2.2992,  0.3246], requires_grad=True)   gradients: tensor([3., 3., 3., 3.])\n"
     ]
    }
   ],
   "source": [
    "weights = torch.randn(4, requires_grad=True)\n",
    "\n",
    "for epoch in range(3):\n",
    "    \n",
    "    model_output = (weights*3).sum()\n",
    "    model_output.backward()\n",
    "    print(f\"weights {weights}   gradients: {weights.grad}\")\n",
    "\n",
    "    # empty the gradients for each epoch\n",
    "    weights.grad.zero_()"
   ]
  },
  {
   "cell_type": "code",
   "execution_count": null,
   "metadata": {},
   "outputs": [],
   "source": []
  }
 ],
 "metadata": {
  "kernelspec": {
   "display_name": "base",
   "language": "python",
   "name": "python3"
  },
  "language_info": {
   "codemirror_mode": {
    "name": "ipython",
    "version": 3
   },
   "file_extension": ".py",
   "mimetype": "text/x-python",
   "name": "python",
   "nbconvert_exporter": "python",
   "pygments_lexer": "ipython3",
   "version": "3.9.7"
  },
  "orig_nbformat": 4
 },
 "nbformat": 4,
 "nbformat_minor": 2
}
