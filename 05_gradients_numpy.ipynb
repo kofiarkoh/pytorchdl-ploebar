{
 "cells": [
  {
   "cell_type": "code",
   "execution_count": 1,
   "metadata": {},
   "outputs": [],
   "source": [
    "import numpy as np"
   ]
  },
  {
   "cell_type": "code",
   "execution_count": 3,
   "metadata": {},
   "outputs": [],
   "source": [
    "x = np.array([1,2,3,4], dtype=np.float32)\n",
    "y = np.array([2,4,6,8], dtype=np.float32)\n",
    "\n",
    "w = 0.0\n",
    "\n"
   ]
  },
  {
   "cell_type": "code",
   "execution_count": 4,
   "metadata": {},
   "outputs": [],
   "source": [
    "#forward\n",
    "\n",
    "def forward(x):\n",
    "    return w* x\n",
    "\n",
    "# loss = MSE\n",
    "\n",
    "def loss(y,y_pred):\n",
    "    return ((y_pred -y ) ** 2).mean()\n",
    "\n",
    "\n",
    "# gradient\n",
    "#MSE = 1/N *(w*x - y)**2\n",
    "# dJ/dw = 1/N 2x(wx - y)\n",
    "\n",
    "def gradient(x,y,y_pred):\n",
    "    return np.dot(2*x, y_pred-y).mean()"
   ]
  },
  {
   "cell_type": "code",
   "execution_count": 5,
   "metadata": {},
   "outputs": [
    {
     "name": "stdout",
     "output_type": "stream",
     "text": [
      "prediction before traininng f(5) = 0.000\n"
     ]
    }
   ],
   "source": [
    "print(f\"prediction before traininng f(5) = {forward(5):.3f}\")"
   ]
  },
  {
   "cell_type": "code",
   "execution_count": 8,
   "metadata": {},
   "outputs": [
    {
     "name": "stdout",
     "output_type": "stream",
     "text": [
      "epoch 1: w=1.680 loss=4.79999924\n",
      "epoch 2: w=1.872 loss=0.76800019\n",
      "epoch 3: w=1.949 loss=0.12288000\n",
      "epoch 4: w=1.980 loss=0.01966083\n",
      "epoch 5: w=1.992 loss=0.00314570\n",
      "epoch 6: w=1.997 loss=0.00050332\n",
      "epoch 7: w=1.999 loss=0.00008053\n",
      "epoch 8: w=1.999 loss=0.00001288\n",
      "epoch 9: w=2.000 loss=0.00000206\n",
      "epoch 10: w=2.000 loss=0.00000033\n",
      "prediction after traininng f(5) = 10.000\n"
     ]
    }
   ],
   "source": [
    "learning_rate =0.01\n",
    "n_iters = 10\n",
    "\n",
    "for epoch in range(n_iters):\n",
    "    y_pred = forward(x)\n",
    "\n",
    "    l = loss(y,y_pred)\n",
    "\n",
    "    dw = gradient(x,y,y_pred)\n",
    "\n",
    "    w -= learning_rate* dw\n",
    "\n",
    "    if( epoch % 1 == 0):\n",
    "        print(f\"epoch {epoch +1}: w={w:.3f} loss={l:.8f}\")\n",
    "\n",
    "\n",
    "print(f\"prediction after traininng f(5) = {forward(5):.3f}\")"
   ]
  },
  {
   "cell_type": "code",
   "execution_count": null,
   "metadata": {},
   "outputs": [],
   "source": []
  }
 ],
 "metadata": {
  "kernelspec": {
   "display_name": "base",
   "language": "python",
   "name": "python3"
  },
  "language_info": {
   "codemirror_mode": {
    "name": "ipython",
    "version": 3
   },
   "file_extension": ".py",
   "mimetype": "text/x-python",
   "name": "python",
   "nbconvert_exporter": "python",
   "pygments_lexer": "ipython3",
   "version": "3.9.7"
  },
  "orig_nbformat": 4
 },
 "nbformat": 4,
 "nbformat_minor": 2
}
